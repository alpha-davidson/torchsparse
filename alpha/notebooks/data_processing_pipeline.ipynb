{
 "cells": [
  {
   "cell_type": "code",
   "execution_count": 1,
   "id": "e4461ad6",
   "metadata": {},
   "outputs": [],
   "source": [
    "import random\n",
    "import h5py\n",
    "import numpy as np\n",
    "import tqdm\n",
    "import matplotlib.pyplot as plt\n",
    "from mpl_toolkits import mplot3d\n",
    "from sklearn.preprocessing import StandardScaler\n",
    "import math\n",
    "import random\n",
    "import copy\n",
    "import os.path\n",
    "\n",
    "from torch.utils.data import Dataset, DataLoader\n",
    "import argparse\n",
    "\n",
    "import torch\n",
    "import torch.utils.data\n",
    "from torch import nn\n",
    "from torch.cuda import amp\n",
    "\n",
    "import torchsparse\n",
    "from torchsparse import SparseTensor\n",
    "from torchsparse import nn as spnn\n",
    "from torchsparse.utils.collate import sparse_collate, sparse_collate_fn\n",
    "from torchsparse.utils.quantize import sparse_quantize"
   ]
  },
  {
   "cell_type": "markdown",
   "id": "e605970b",
   "metadata": {},
   "source": [
    "# User Input Desired Settings"
   ]
  },
  {
   "cell_type": "code",
   "execution_count": 2,
   "id": "8f3ed9cd",
   "metadata": {},
   "outputs": [],
   "source": [
    "# change file directory to the .h5 data file to convert\n",
    "file = h5py.File('../mg22simulated/output_digi_HDF_Mg22_Ne20pp_8MeV.h5', 'r')\n",
    "\n",
    "original_keys = list(file.keys())\n",
    "original_length = len(original_keys)\n",
    "# print(original_keys)"
   ]
  },
  {
   "cell_type": "code",
   "execution_count": 3,
   "id": "96eb1908",
   "metadata": {},
   "outputs": [
    {
     "name": "stdout",
     "output_type": "stream",
     "text": [
      "6642\n"
     ]
    }
   ],
   "source": [
    "#making an array of the lengths of events\n",
    "event_lens = np.zeros(original_length, int)\n",
    "for i in range(original_length):\n",
    "    event = original_keys[i]\n",
    "    event_lens[i] = len(file[event])\n",
    "    \n",
    "discards = 0\n",
    "for i in event_lens:\n",
    "    if i < 128:\n",
    "        discards += 1\n",
    "\n",
    "print(discards)"
   ]
  },
  {
   "cell_type": "markdown",
   "id": "259afc1f",
   "metadata": {},
   "source": [
    "# Convert Raw H5 File into npArray with Corresponding key index"
   ]
  },
  {
   "cell_type": "code",
   "execution_count": 4,
   "id": "96dd7c37",
   "metadata": {
    "tags": []
   },
   "outputs": [],
   "source": [
    "#making a numpy array of the data. three dimension are [event number, point within event, data value at point]\n",
    "#length of each event is based on the longest event in dataset, so non-maximal events are padded with zeros at the end\n",
    "#12th index of each data point now corresponds to the index of the event in the h5 file's original_keys\n",
    "# each point thus contains:\n",
    "# x,y,z, time, Amplitude, trackID (particle ID), pointID, energy, energy loss, angle, Mass, Atomic number, Event_id index\n",
    "ISOTOPE = 'Mg22'\n",
    "file_name = ISOTOPE + '_w_key_index'\n",
    "# **only doing this if the file doens't exist already, as the conversion takes a while**\n",
    "if not os.path.exists('../mg22simulated/' + file_name + '.npy'):\n",
    "    event_data = np.zeros((original_length, np.max(event_lens), 13), float) \n",
    "    for n in tqdm.tqdm(range(len(original_keys))):\n",
    "        name = original_keys[n]\n",
    "        event = file[name]\n",
    "        ev_len = len(event)\n",
    "        #converting event into an array\n",
    "        for i,e in enumerate(event):\n",
    "            instant = np.array(list(e))\n",
    "            event_data[n][i][:12] = np.array(instant)\n",
    "            event_data[n][i][-1] = float(n) #insert index value to find corresponding event ID\n",
    "    np.save('../mg22simulated/' + file_name, event_data)"
   ]
  },
  {
   "cell_type": "code",
   "execution_count": 5,
   "id": "b596fe18",
   "metadata": {},
   "outputs": [],
   "source": [
    "data = np.load( '../mg22simulated/' + ISOTOPE + '_w_key_index' + '.npy')\n",
    "assert data.shape == (original_length, np.max(event_lens), 13), 'Array has incorrect shape'\n",
    "assert len(np.unique(data[:,:,12])) == original_length, 'Array has incorrect Event_ids'"
   ]
  },
  {
   "cell_type": "code",
   "execution_count": 23,
   "id": "6bfebbcc-c79f-4a4d-b824-ca067a9d617f",
   "metadata": {},
   "outputs": [
    {
     "name": "stderr",
     "output_type": "stream",
     "text": [
      "100%|██████████| 10000/10000 [00:11<00:00, 882.41it/s]\n"
     ]
    }
   ],
   "source": [
    "# x,y,z, time, Amplitude, trackID (particle ID), pointID, energy, energy loss, angle, Mass, Atomic number, Event_id index\n",
    "x = []\n",
    "y = []\n",
    "z = []\n",
    "t = []\n",
    "amp = []\n",
    "track_id = []\n",
    "\n",
    "print(\"Sorting Arrays\")\n",
    "for event in tqdm.tqdm(range(len(data))):\n",
    "    for detection in data[event]:\n",
    "        if not(detection[0] == 0. and detection[1] == 0. and detection[2] == 0. and detection[3] == 0. and detection[4] == 0.):\n",
    "            x.append(detection[0])\n",
    "            y.append(detection[1])\n",
    "            z.append(detection[2])\n",
    "            t.append(detection[3])\n",
    "            amp.append(detection[4])\n",
    "            track_id.append(detection[5])"
   ]
  },
  {
   "cell_type": "markdown",
   "id": "a0e3440c",
   "metadata": {},
   "source": [
    "# Random sample From New Numpy Array"
   ]
  },
  {
   "cell_type": "code",
   "execution_count": 7,
   "id": "7c78b0f1-0e1b-491b-bd77-5d6ebdbbebac",
   "metadata": {},
   "outputs": [],
   "source": [
    "def minmax(list):\n",
    "    mn = min(list)\n",
    "    mx = max(list)\n",
    "    return mn, mx\n",
    "\n",
    "def stdmean(list):\n",
    "    std = np.std(list)\n",
    "    mean = np.mean(list)\n",
    "    return std, mean\n",
    " \n",
    "#print(statistics(x)) # (-250.32000732421875, 250.32003784179688, 53.10198368892927, -0.24169623407507868)\n",
    "#print(statistics(y)) # (-252.3749542236328, 252.3749542236328, 52.222182151246194, 0.5231569735677639)\n",
    "#print(statistics(z)) # (-56.0, 897.6, 217.7207567223601, 515.003662529672)\n",
    "#print(statistics(t)) # (20.0, 318.0, 68.03773647573753, 198.43864454052257)\n",
    "#print(statistics(amp))  # (4.33970019971111, 28437.168639678683, 1651.0786362954818, 483.3103288726368)\n",
    "#print(statistics(track_id))  # (0.0, 6.0, 1.465137242787051, 2.5601434323210155)\n",
    "#print(statistics(pointID))  # (1.0, 4372.0, 867.8975845605485, 842.7817848384036)\n",
    "#print(statistics(energy))  # (0.0, 101.66173143276683, 31.59588456346431, 16.38517271993762)\n",
    "#print(statistics(energy_loss))  # (1.5686886456478533e-08, 0.0004088286077603698, 6.721297067500215e-05, 3.541481400602866e-05)\n",
    "#print(statistics(angle)) # (0.0, 47.01561545484322, 8.101628726749576, 2.7313065828042116)\n",
    "#print(statistics(mass)) # (1.0, 25.0, 7.413946945908423, 5.020969490577008)\n",
    "#print(statistics(atomic_no)) # (1.0, 13.0, 3.8158895847231857, 2.938288801262519)"
   ]
  },
  {
   "cell_type": "code",
   "execution_count": 8,
   "id": "b9b1a1cd-fd53-4693-b596-af8eccb75a68",
   "metadata": {},
   "outputs": [
    {
     "data": {
      "image/png": "[encoded data removed]",
      "text/plain": [
       "<Figure size 1080x504 with 6 Axes>"
      ]
     },
     "metadata": {
      "needs_background": "light"
     },
     "output_type": "display_data"
    }
   ],
   "source": [
    "plt.figure(figsize=(15, 7))\n",
    "\n",
    "plt.subplot(2, 3, 1)\n",
    "plt.hist(x, bins=30, alpha=0.5, label='x')\n",
    "plt.hist(y, bins=30, alpha=0.5, label='y')\n",
    "plt.xlabel('Coordinate')\n",
    "plt.ylabel('Frequency')\n",
    "plt.legend(loc='upper right')\n",
    "plt.title('x y Comparison')\n",
    "\n",
    "plt.subplot(2, 3, 2)\n",
    "plt.hist(mass, bins=30, alpha=0.5, label='mass')\n",
    "plt.hist(atomic_no, bins=30, alpha=0.5, label='atomic_no')\n",
    "plt.xlabel('Number')\n",
    "plt.ylabel('Frequency')\n",
    "plt.legend(loc='upper right')\n",
    "plt.title('Mass and Atomic No.')\n",
    "\n",
    "plt.subplot(2, 3, 3)\n",
    "plt.hist(pointID, bins=30, alpha=0.5, label='point_id')\n",
    "plt.xlabel('pointID')\n",
    "plt.ylabel('Frequency')\n",
    "plt.legend(loc='upper right')\n",
    "plt.title('pointID')\n",
    "\n",
    "plt.subplot(2, 3, 4)\n",
    "plt.hist(track_id, bins=30, alpha=0.5, label='track_id')\n",
    "plt.xlabel('track_id')\n",
    "plt.ylabel('Frequency')\n",
    "plt.legend(loc='upper right')\n",
    "plt.title('track_id')\n",
    "\n",
    "plt.subplot(2, 3, 5)\n",
    "plt.hist(energy, bins=30, alpha=0.5, label='energy')\n",
    "plt.xlabel('energy')\n",
    "plt.ylabel('Frequency')\n",
    "plt.legend(loc='upper right')\n",
    "plt.title('energy')\n",
    "\n",
    "plt.subplot(2, 3, 6)\n",
    "plt.hist(energy_loss, bins=30, alpha=0.5, label='energy_loss')\n",
    "plt.xlabel('energy_loss')\n",
    "plt.ylabel('Frequency')\n",
    "plt.legend(loc='upper right')\n",
    "plt.title('energy_loss')\n",
    "\n",
    "# Adjust spacing between subplots\n",
    "plt.tight_layout()\n",
    "\n",
    "# Show the plots\n",
    "plt.show()"
   ]
  },
  {
   "cell_type": "code",
   "execution_count": 8,
   "id": "30c61fe9-6635-41a3-9a7a-dbadd3a52fdc",
   "metadata": {},
   "outputs": [
    {
     "name": "stderr",
     "output_type": "stream",
     "text": [
      "100%|██████████| 10000/10000 [00:45<00:00, 222.07it/s]\n"
     ]
    }
   ],
   "source": [
    "EVENTS = 10000 # total number of events\n",
    "DETECTIONS = 1476 # total number of detections per event (even the empty ones)\n",
    "\n",
    "x_array = np.zeros((EVENTS, DETECTIONS))\n",
    "y_array = np.zeros((EVENTS, DETECTIONS))\n",
    "z_array = np.zeros((EVENTS, DETECTIONS))\n",
    "#t_array = np.zeros((10000, DETECTIONS))\n",
    "amp_array = np.zeros((EVENTS, DETECTIONS))\n",
    "track_id_array = np.zeros((EVENTS, DETECTIONS))\n",
    "#pointID_array = np.zeros((10000, DETECTIONS))\n",
    "#energy_array = np.zeros((10000, DETECTIONS))\n",
    "#energy_loss_array = np.zeros((10000, DETECTIONS))\n",
    "#angle_array = np.zeros((10000, DETECTIONS))\n",
    "#mass_array = np.zeros((10000, DETECTIONS))\n",
    "#atomic_no_array = np.zeros((10000, DETECTIONS))\n",
    "\n",
    "for event in tqdm.tqdm(range(EVENTS)):\n",
    "    for detection in range(DETECTIONS):\n",
    "        # xyz\n",
    "        x_array[event][detection] = data[event][detection][0]\n",
    "        y_array[event][detection] = data[event][detection][1]\n",
    "        z_array[event][detection] = data[event][detection][2]\n",
    "        # feats\n",
    "        #t_array[event][detection] = data[event][detection][3]\n",
    "        amp_array[event][detection] = data[event][detection][4]\n",
    "        track_id_array[event][detection] = data[event][detection][5]\n",
    "        #pointID_array[event][detection] = data[event][detection][6]\n",
    "        #energy_array[event][detection] = data[event][detection][7]\n",
    "        #energy_loss_array[event][detection] = data[event][detection][8]\n",
    "        #angle_array[event][detection] = data[event][detection][9]\n",
    "        # labels?\n",
    "        #mass_array[event][detection] = data[event][detection][10]\n",
    "        #atomic_no_array[event][detection] = data[event][detection][11]\n",
    "   "
   ]
  },
  {
   "cell_type": "code",
   "execution_count": 9,
   "id": "0372ffcf-3843-4078-96d4-042efccbe6bc",
   "metadata": {},
   "outputs": [],
   "source": [
    "# linear fitting for xyz\n",
    "def linearfit(x, min_orig, max_orig, min_desired, max_desired):\n",
    "    return ((x - min_orig) / (max_orig - min_orig)) * (max_desired - min_desired) + min_desired\n",
    "\n",
    "# normaliziation for features\n",
    "def normalize(x, stddev, mean):\n",
    "    return (x - mean) / stddev"
   ]
  },
  {
   "cell_type": "code",
   "execution_count": 10,
   "id": "e4f02cc7-e1d5-470f-9dca-937a2ae95012",
   "metadata": {},
   "outputs": [],
   "source": [
    "x_min, x_max = minmax(x)\n",
    "y_min, y_max = minmax(y)\n",
    "z_min, z_max = minmax(z)\n",
    "\n",
    "x_fit = linearfit(x_array, x_min, x_max, 0, 499).astype(int)\n",
    "y_fit = linearfit(y_array, y_min, y_max, 0, 499).astype(int)\n",
    "z_fit = linearfit(z_array, z_min, z_max, 0, 499).astype(int) "
   ]
  },
  {
   "cell_type": "code",
   "execution_count": 11,
   "id": "1b5712f4-a670-4dea-bf4d-1fb3137692b7",
   "metadata": {},
   "outputs": [],
   "source": [
    "#t_std, t_mean = stdmean(t_array)\n",
    "amp_std, amp_mean = stdmean(amp_array)\n",
    "#track_id_std, track_id_mean = stdmean(track_id_array)\n",
    "#pointID_std, pointID_mean = stdmean(pointID_array)\n",
    "#energy_std, energy_mean = stdmean(energy_array)\n",
    "#energy_loss_std, energy_loss_mean = stdmean(energy_loss_array)\n",
    "#angle_std, angle_mean = stdmean(angle_array)\n",
    "\n",
    "#t_fit = normalize(t_array, t_std, t_mean)\n",
    "#track_id_fit = normalize(track_id, track_id_std, track_id_mean)\n",
    "#pointID_fit = normalize(pointID_array, pointID_std, pointID_mean)\n",
    "#energy_fit = normalize(energy_array, energy_std, energy_mean)\n",
    "#energy_loss_fit = normalize(energy_loss_array, energy_loss_std, energy_loss_mean)\n",
    "#angle_fit = normalize(angle_array, angle_std, angle_mean)"
   ]
  },
  {
   "cell_type": "code",
   "execution_count": 12,
   "id": "29b6bb0d",
   "metadata": {},
   "outputs": [
    {
     "name": "stdout",
     "output_type": "stream",
     "text": [
      "(10000, 1476, 3)\n",
      "(10000, 1476, 4)\n",
      "(10000, 1476, 1)\n"
     ]
    }
   ],
   "source": [
    "total_coords = np.stack((x_fit, y_fit, z_fit), axis=-1)\n",
    "total_features = amp_array.reshape(10000, 1476, 1)\n",
    "total_features = np.concatenate((total_coords, total_features), axis=2)\n",
    "total_labels = track_id_array.reshape(10000, 1476, 1)\n",
    "\n",
    "print(total_coords.shape)\n",
    "print(total_features.shape)\n",
    "print(total_labels.shape)"
   ]
  },
  {
   "cell_type": "code",
   "execution_count": 13,
   "id": "97ca00d3-7b47-45ec-8025-75d36c972e1f",
   "metadata": {},
   "outputs": [],
   "source": [
    "# Step 1: Create a custom dataset class\n",
    "from typing import Any, Dict\n",
    "\n",
    "class CustomDataset(Dataset):\n",
    "    def __init__(self, coords, feats, labels):\n",
    "        coords = torch.tensor(coords, dtype=torch.int)\n",
    "\n",
    "        \n",
    "        \n",
    "        feats = torch.tensor(feats, dtype=torch.float)\n",
    "        labels = torch.tensor(labels, dtype=torch.long)\n",
    "\n",
    "        self.coords = coords\n",
    "        self.feats = feats\n",
    "        self.labels = labels\n",
    "    def __len__(self):\n",
    "        return len(self.coords)\n",
    "\n",
    "    def __getitem__(self, idx):\n",
    "        return self.coords[idx], self.feats[idx], self.labels[idx]"
   ]
  },
  {
   "cell_type": "code",
   "execution_count": 14,
   "id": "e88b8eca-5558-4335-bfef-45f7af626523",
   "metadata": {},
   "outputs": [],
   "source": [
    "from torch.cuda import amp\n",
    "# GPU Settings\n",
    "device = 'cuda'\n",
    "amp_enabled = True\n",
    "\n",
    "#model = nn.Sequential(\n",
    "    #spnn.Conv3d(4, 32, 3),\n",
    "    #spnn.BatchNorm(32),\n",
    "    #spnn.ReLU(True),\n",
    "    #spnn.Conv3d(32, 64, 2, stride=2),\n",
    "    #spnn.BatchNorm(64),\n",
    "    #spnn.ReLU(True),\n",
    "    #spnn.Conv3d(64, 64, 2, stride=2, transposed=True),\n",
    "    #spnn.BatchNorm(64),\n",
    "    #spnn.ReLU(True),\n",
    "    #spnn.Conv3d(64, 32, 3),\n",
    "    #spnn.BatchNorm(32),\n",
    "    #spnn.ReLU(True),\n",
    "    #spnn.Conv3d(32, num_classes, 1),  # Adjust the number of output channels\n",
    "#).to(device)\n",
    "\n",
    "model = nn.Sequential(\n",
    "    spnn.Conv3d(4, 32, 3),\n",
    "    spnn.BatchNorm(32),\n",
    "    spnn.ReLU(True),\n",
    "    #spnn.Conv3d(32, 64, 2, stride=2),\n",
    "    #spnn.BatchNorm(64),\n",
    "    #spnn.ReLU(True),\n",
    "    #spnn.Conv3d(64, 64, 2, stride=2, transposed=True),\n",
    "    #spnn.BatchNorm(64),\n",
    "    #spnn.ReLU(True),\n",
    "    #spnn.Conv3d(64, 32, 3),\n",
    "    #spnn.BatchNorm(32),\n",
    "    #spnn.ReLU(True),\n",
    "    #spnn.GlobalMaxPool(),  \n",
    "    #nn.Flatten(start_dim=1),\n",
    "    #nn.Linear(32, 5)\n",
    "    spnn.Conv3d(32, 32, 3),\n",
    "    spnn.BatchNorm(32),\n",
    "    spnn.ReLU(True),\n",
    "    spnn.Conv3d(32, 5, 1),\n",
    ").to(device)\n",
    "\n",
    "criterion = nn.CrossEntropyLoss()\n",
    "optimizer = torch.optim.Adam(model.parameters(), lr=1e-3)\n",
    "scaler = amp.GradScaler(enabled=amp_enabled)"
   ]
  },
  {
   "cell_type": "code",
   "execution_count": 15,
   "id": "4c5dabeb-4cd4-4ede-9d49-fd90a15f0b24",
   "metadata": {},
   "outputs": [],
   "source": [
    "custom_dataset = CustomDataset(total_coords, total_features, total_labels)\n",
    "\n",
    "batch_size = 4\n",
    "#num_workers = 4  \n",
    "\n",
    "data_loader = DataLoader(\n",
    "    custom_dataset,\n",
    "    batch_size=batch_size\n",
    ")"
   ]
  },
  {
   "cell_type": "code",
   "execution_count": 16,
   "id": "7ac8b739-2ef7-4b41-be91-3cbf26426e73",
   "metadata": {},
   "outputs": [
    {
     "name": "stdout",
     "output_type": "stream",
     "text": [
      "Batch 1:\n",
      "[step 1] loss = 1.635019302368164\n",
      "Batch 2:\n",
      "[step 2] loss = 1.560409426689148\n",
      "Batch 3:\n",
      "[step 3] loss = 1.5811340808868408\n",
      "Batch 4:\n"
     ]
    },
    {
     "ename": "RuntimeError",
     "evalue": "CUDA error: device-side assert triggered\nCUDA kernel errors might be asynchronously reported at some other API call, so the stacktrace below might be incorrect.\nFor debugging consider passing CUDA_LAUNCH_BLOCKING=1.\nCompile with `TORCH_USE_CUDA_DSA` to enable device-side assertions.\n",
     "output_type": "error",
     "traceback": [
      "\u001b[0;31m---------------------------------------------------------------------------\u001b[0m",
      "\u001b[0;31mRuntimeError\u001b[0m                              Traceback (most recent call last)",
      "Cell \u001b[0;32mIn[16], line 22\u001b[0m\n\u001b[1;32m     19\u001b[0m     labelsloss \u001b[38;5;241m=\u001b[39m labels\u001b[38;5;241m.\u001b[39mfeats\u001b[38;5;241m.\u001b[39msqueeze(\u001b[38;5;241m-\u001b[39m\u001b[38;5;241m1\u001b[39m)\n\u001b[1;32m     20\u001b[0m     loss \u001b[38;5;241m=\u001b[39m criterion(outputs\u001b[38;5;241m.\u001b[39mfeats, labelsloss)\n\u001b[0;32m---> 22\u001b[0m \u001b[38;5;28mprint\u001b[39m(\u001b[38;5;124mf\u001b[39m\u001b[38;5;124m'\u001b[39m\u001b[38;5;124m[step \u001b[39m\u001b[38;5;132;01m{\u001b[39;00mbatch_idx\u001b[38;5;250m \u001b[39m\u001b[38;5;241m+\u001b[39m\u001b[38;5;250m \u001b[39m\u001b[38;5;241m1\u001b[39m\u001b[38;5;132;01m}\u001b[39;00m\u001b[38;5;124m] loss = \u001b[39m\u001b[38;5;132;01m{\u001b[39;00mloss\u001b[38;5;241m.\u001b[39mitem()\u001b[38;5;132;01m}\u001b[39;00m\u001b[38;5;124m'\u001b[39m)\n\u001b[1;32m     24\u001b[0m optimizer\u001b[38;5;241m.\u001b[39mzero_grad()\n\u001b[1;32m     25\u001b[0m scaler\u001b[38;5;241m.\u001b[39mscale(loss)\u001b[38;5;241m.\u001b[39mbackward()\n",
      "\u001b[0;31mRuntimeError\u001b[0m: CUDA error: device-side assert triggered\nCUDA kernel errors might be asynchronously reported at some other API call, so the stacktrace below might be incorrect.\nFor debugging consider passing CUDA_LAUNCH_BLOCKING=1.\nCompile with `TORCH_USE_CUDA_DSA` to enable device-side assertions.\n"
     ]
    }
   ],
   "source": [
    "for batch_idx, (batch_coords, batch_feats, batch_labels) in enumerate(data_loader):\n",
    "    \n",
    "    inputs_list = []\n",
    "    labels_list = []\n",
    "    \n",
    "    for i in range(len(batch_coords)):\n",
    "        inputs_sparse = SparseTensor(coords=batch_coords[i], feats=batch_feats[i])\n",
    "        labels_sparse = SparseTensor(coords=batch_coords[i], feats=batch_labels[i])\n",
    "        inputs_list.append(inputs_sparse)\n",
    "        labels_list.append(labels_sparse)\n",
    "        \n",
    "    inputs = sparse_collate(inputs_list).to(device=device)\n",
    "    labels = sparse_collate(labels_list).to(device=device)\n",
    "\n",
    "    print(f\"Batch {batch_idx + 1}:\")\n",
    "    \n",
    "    with amp.autocast(enabled=amp_enabled):\n",
    "        outputs = model(inputs)\n",
    "        labelsloss = labels.feats.squeeze(-1)\n",
    "        loss = criterion(outputs.feats, labelsloss)\n",
    "    \n",
    "    print(f'[step {batch_idx + 1}] loss = {loss.item()}')\n",
    "\n",
    "    optimizer.zero_grad()\n",
    "    scaler.scale(loss).backward()\n",
    "    scaler.step(optimizer)\n",
    "    scaler.update()\n",
    "    \n",
    "    # For simplicity, let's break the loop after one iteration\n",
    "    #if batch_idx == 2:\n",
    "        #break"
   ]
  },
  {
   "cell_type": "code",
   "execution_count": 25,
   "id": "98ba0009-d9bf-4fd3-b692-5065e9ec2e84",
   "metadata": {},
   "outputs": [
    {
     "name": "stdout",
     "output_type": "stream",
     "text": [
      "tensor([[ 5.5420e-01, -5.4443e-01,  5.3418e-01,  4.1821e-01, -1.5747e-01],\n",
      "        [ 3.8145e+00, -2.8965e+00,  1.3843e-01, -2.6094e+00, -1.3828e+00],\n",
      "        [ 3.5410e+00, -2.6914e+00,  1.2927e-01, -2.4297e+00, -1.2705e+00],\n",
      "        ...,\n",
      "        [ 1.7586e-03, -3.9139e-03,  8.3466e-03, -1.8539e-02,  1.4999e-02],\n",
      "        [ 1.7586e-03, -3.9139e-03,  8.3466e-03, -1.8539e-02,  1.4999e-02],\n",
      "        [ 1.7586e-03, -3.9139e-03,  8.3466e-03, -1.8539e-02,  1.4999e-02]],\n",
      "       device='cuda:0', dtype=torch.float16, grad_fn=<MmBackward0>)\n",
      "tensor([0, 0, 0,  ..., 0, 0, 0], device='cuda:0')\n"
     ]
    },
    {
     "data": {
      "image/png": "[encoded data removed]",
      "text/plain": [
       "<Figure size 432x288 with 1 Axes>"
      ]
     },
     "metadata": {
      "needs_background": "light"
     },
     "output_type": "display_data"
    }
   ],
   "source": [
    "print(outputs.feats)\n",
    "print(labels.feats)\n",
    "\n",
    "plt.hist(labels.feats.cpu().numpy(), bins=30, alpha=0.5, label='labels')\n",
    "plt.xlabel('labels')\n",
    "plt.ylabel('Frequency')\n",
    "plt.legend(loc='upper right')\n",
    "plt.title('Labels')\n",
    "\n",
    "# Show the plots\n",
    "plt.show()"
   ]
  },
  {
   "cell_type": "code",
   "execution_count": null,
   "id": "d1731ae0-8c12-4f37-81b6-1e06a5bf4766",
   "metadata": {},
   "outputs": [],
   "source": [
    "model.eval()\n",
    "# enable fused and locality-aware memory access optimization\n",
    "torchsparse.backends.benchmark = True  # type: ignore\n",
    "\n",
    "with torch.no_grad():\n",
    "    for k, feed_dict in enumerate(dataflow):\n",
    "        inputs = feed_dict['input'].to(device=device).half()\n",
    "        labels = feed_dict['label'].to(device=device)\n",
    "\n",
    "        with amp.autocast(enabled=True):\n",
    "            outputs = model(inputs)\n",
    "            loss = criterion(outputs.feats, labels.feats)\n",
    "\n",
    "        print(f'[inference step {k + 1}] loss = {loss.item()}')"
   ]
  },
  {
   "cell_type": "code",
   "execution_count": null,
   "id": "19cd1a8d-79f4-413f-bb16-2d83cb5166ac",
   "metadata": {},
   "outputs": [],
   "source": []
  }
 ],
 "metadata": {
  "kernelspec": {
   "display_name": "Python 3",
   "language": "python",
   "name": "python3"
  },
  "language_info": {
   "codemirror_mode": {
    "name": "ipython",
    "version": 3
   },
   "file_extension": ".py",
   "mimetype": "text/x-python",
   "name": "python",
   "nbconvert_exporter": "python",
   "pygments_lexer": "ipython3",
   "version": "3.8.17"
  }
 },
 "nbformat": 4,
 "nbformat_minor": 5
}
