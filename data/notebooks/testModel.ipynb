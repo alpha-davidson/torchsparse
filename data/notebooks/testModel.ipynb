{
 "cells": [
  {
   "cell_type": "markdown",
   "id": "e3c96845-f267-4d4a-b631-facb62980fe6",
   "metadata": {},
   "source": [
    "Testing PyTorch and TorchSparse"
   ]
  },
  {
   "cell_type": "code",
   "execution_count": 1,
   "id": "03b79844-2794-452d-9638-98cb7c864562",
   "metadata": {},
   "outputs": [
    {
     "name": "stdout",
     "output_type": "stream",
     "text": [
      "Files already downloaded and verified\n",
      "Files already downloaded and verified\n"
     ]
    }
   ],
   "source": [
    "import torch\n",
    "import torch.nn as nn\n",
    "import torch.nn.functional as F\n",
    "import torchvision\n",
    "import torchvision.transforms as transforms\n",
    "import matplotlib.pyplot as plt\n",
    "import numpy as np\n",
    "\n",
    "# Device configuration\n",
    "device = torch.device('cuda' if torch.cuda.is_available() else 'cpu')\n",
    "\n",
    "# Hyper-parameters \n",
    "num_epochs = 10\n",
    "batch_size = 32\n",
    "learning_rate = 0.001\n",
    "\n",
    "# dataset has PILImage images of range [0, 1]. \n",
    "# We transform them to Tensors of normalized range [-1, 1]\n",
    "transform = transforms.Compose(\n",
    "    [transforms.ToTensor(),\n",
    "     transforms.Normalize((0.5, 0.5, 0.5), (0.5, 0.5, 0.5))])\n",
    "\n",
    "# CIFAR10: 60000 32x32 color images in 10 classes, with 6000 images per class\n",
    "train_dataset = torchvision.datasets.CIFAR10(root='./data', train=True,\n",
    "                                        download=True, transform=transform)\n",
    "\n",
    "test_dataset = torchvision.datasets.CIFAR10(root='./data', train=False,\n",
    "                                       download=True, transform=transform)\n",
    "\n",
    "train_loader = torch.utils.data.DataLoader(train_dataset, batch_size=batch_size,\n",
    "                                          shuffle=True)\n",
    "\n",
    "test_loader = torch.utils.data.DataLoader(test_dataset, batch_size=batch_size,\n",
    "                                         shuffle=False)\n",
    "\n",
    "classes = ('plane', 'car', 'bird', 'cat',\n",
    "           'deer', 'dog', 'frog', 'horse', 'ship', 'truck')\n",
    "\n",
    "def imshow(imgs):\n",
    "    imgs = imgs / 2 + 0.5   # unnormalize\n",
    "    npimgs = imgs.numpy()\n",
    "    plt.imshow(np.transpose(npimgs, (1, 2, 0)))\n",
    "    plt.show()\n",
    "\n",
    "# one batch of random training images\n",
    "dataiter = iter(train_loader)\n"
   ]
  },
  {
   "cell_type": "code",
   "execution_count": 4,
   "id": "a2a8105c-2c0c-4b1f-bce3-ed043b5f1ce5",
   "metadata": {},
   "outputs": [
    {
     "name": "stderr",
     "output_type": "stream",
     "text": [
      " 10%|█         | 1/10 [00:12<01:54, 12.73s/it]"
     ]
    },
    {
     "name": "stdout",
     "output_type": "stream",
     "text": [
      "[1] loss: 1.468\n"
     ]
    },
    {
     "name": "stderr",
     "output_type": "stream",
     "text": [
      " 20%|██        | 2/10 [00:24<01:38, 12.33s/it]"
     ]
    },
    {
     "name": "stdout",
     "output_type": "stream",
     "text": [
      "[2] loss: 1.092\n"
     ]
    },
    {
     "name": "stderr",
     "output_type": "stream",
     "text": [
      " 30%|███       | 3/10 [00:38<01:30, 12.86s/it]"
     ]
    },
    {
     "name": "stdout",
     "output_type": "stream",
     "text": [
      "[3] loss: 0.917\n"
     ]
    },
    {
     "name": "stderr",
     "output_type": "stream",
     "text": [
      " 40%|████      | 4/10 [00:50<01:15, 12.60s/it]"
     ]
    },
    {
     "name": "stdout",
     "output_type": "stream",
     "text": [
      "[4] loss: 0.814\n"
     ]
    },
    {
     "name": "stderr",
     "output_type": "stream",
     "text": [
      " 50%|█████     | 5/10 [01:02<01:02, 12.47s/it]"
     ]
    },
    {
     "name": "stdout",
     "output_type": "stream",
     "text": [
      "[5] loss: 0.732\n"
     ]
    },
    {
     "name": "stderr",
     "output_type": "stream",
     "text": [
      " 60%|██████    | 6/10 [01:14<00:49, 12.39s/it]"
     ]
    },
    {
     "name": "stdout",
     "output_type": "stream",
     "text": [
      "[6] loss: 0.669\n"
     ]
    },
    {
     "name": "stderr",
     "output_type": "stream",
     "text": [
      " 70%|███████   | 7/10 [01:27<00:36, 12.31s/it]"
     ]
    },
    {
     "name": "stdout",
     "output_type": "stream",
     "text": [
      "[7] loss: 0.622\n"
     ]
    },
    {
     "name": "stderr",
     "output_type": "stream",
     "text": [
      " 80%|████████  | 8/10 [01:39<00:24, 12.28s/it]"
     ]
    },
    {
     "name": "stdout",
     "output_type": "stream",
     "text": [
      "[8] loss: 0.576\n"
     ]
    },
    {
     "name": "stderr",
     "output_type": "stream",
     "text": [
      " 90%|█████████ | 9/10 [01:51<00:12, 12.27s/it]"
     ]
    },
    {
     "name": "stdout",
     "output_type": "stream",
     "text": [
      "[9] loss: 0.535\n"
     ]
    },
    {
     "name": "stderr",
     "output_type": "stream",
     "text": [
      "100%|██████████| 10/10 [02:04<00:00, 12.47s/it]"
     ]
    },
    {
     "name": "stdout",
     "output_type": "stream",
     "text": [
      "[10] loss: 0.496\n",
      "Finished Training\n"
     ]
    },
    {
     "name": "stderr",
     "output_type": "stream",
     "text": [
      "\n"
     ]
    }
   ],
   "source": [
    "import tqdm\n",
    "class ConvNet(nn.Module):\n",
    "    def __init__(self):\n",
    "        super().__init__()\n",
    "        self.conv1 = nn.Conv2d(3, 32, 3)\n",
    "        self.pool = nn.MaxPool2d(2, 2)\n",
    "        self.conv2 = nn.Conv2d(32, 64, 3)\n",
    "        self.conv3 = nn.Conv2d(64, 64, 3)\n",
    "        self.fc1 = nn.Linear(64*4*4, 64)\n",
    "        self.fc2 = nn.Linear(64, 10)\n",
    "\n",
    "    def forward(self, x):\n",
    "        # N, 3, 32, 32\n",
    "        x = F.relu(self.conv1(x))   # -> N, 32, 30, 30\n",
    "        x = self.pool(x)            # -> N, 32, 15, 15\n",
    "        x = F.relu(self.conv2(x))   # -> N, 64, 13, 13\n",
    "        x = self.pool(x)            # -> N, 64, 6, 6\n",
    "        x = F.relu(self.conv3(x))   # -> N, 64, 4, 4\n",
    "        x = torch.flatten(x, 1)     # -> N, 1024\n",
    "        x = F.relu(self.fc1(x))     # -> N, 64\n",
    "        x = self.fc2(x)             # -> N, 10\n",
    "        return x\n",
    "\n",
    "\n",
    "model = ConvNet().to(device)\n",
    "\n",
    "criterion = nn.CrossEntropyLoss()\n",
    "optimizer = torch.optim.Adam(model.parameters(), lr=learning_rate)\n",
    "\n",
    "n_total_steps = len(train_loader)\n",
    "for epoch in tqdm.tqdm(range(num_epochs)):\n",
    "\n",
    "    running_loss = 0.0\n",
    "\n",
    "    for i, (images, labels) in enumerate(train_loader):\n",
    "        images = images.to(device)\n",
    "        labels = labels.to(device)\n",
    "\n",
    "        # Forward pass\n",
    "        outputs = model(images)\n",
    "        loss = criterion(outputs, labels)\n",
    "\n",
    "        # Backward and optimize\n",
    "        loss.backward()\n",
    "        optimizer.step()\n",
    "        optimizer.zero_grad()\n",
    "\n",
    "        running_loss += loss.item()\n",
    "\n",
    "    print(f'[{epoch + 1}] loss: {running_loss / n_total_steps:.3f}')\n",
    "\n",
    "print('Finished Training')\n",
    "PATH = './cnn.pth'\n",
    "torch.save(model.state_dict(), PATH)"
   ]
  },
  {
   "cell_type": "code",
   "execution_count": 6,
   "id": "d76e8c1c-f420-4978-8c37-0af556c07572",
   "metadata": {},
   "outputs": [
    {
     "name": "stdout",
     "output_type": "stream",
     "text": [
      "Accuracy of the model: 72.82 %\n",
      "Accuracy of the loaded model: 72.82 %\n"
     ]
    }
   ],
   "source": [
    "loaded_model = ConvNet()\n",
    "loaded_model.load_state_dict(torch.load(PATH)) # it takes the loaded dictionary, not the path file itself\n",
    "loaded_model.to(device)\n",
    "loaded_model.eval()\n",
    "\n",
    "with torch.no_grad():\n",
    "    n_correct = 0\n",
    "    n_correct2 = 0\n",
    "    n_samples = len(test_loader.dataset)\n",
    "\n",
    "    for images, labels in test_loader:\n",
    "        images = images.to(device)\n",
    "        labels = labels.to(device)\n",
    "        outputs = model(images)\n",
    "\n",
    "        # max returns (value ,index)\n",
    "        _, predicted = torch.max(outputs, 1)\n",
    "        n_correct += (predicted == labels).sum().item()\n",
    "\n",
    "        outputs2 = loaded_model(images)\n",
    "        _, predicted2 = torch.max(outputs2, 1)\n",
    "        n_correct2 += (predicted2 == labels).sum().item()\n",
    "\n",
    "    acc = 100.0 * n_correct / n_samples\n",
    "    print(f'Accuracy of the model: {acc} %')\n",
    "\n",
    "    acc = 100.0 * n_correct2 / n_samples\n",
    "    print(f'Accuracy of the loaded model: {acc} %')"
   ]
  },
  {
   "cell_type": "code",
   "execution_count": 18,
   "id": "8963def2-247d-4f2c-be30-793a4fa2b4fa",
   "metadata": {},
   "outputs": [
    {
     "name": "stdout",
     "output_type": "stream",
     "text": [
      "[tensor([[[[-0.6471, -0.6000, -0.3961,  ..., -0.3333, -0.2157, -0.3098],\n",
      "          [-0.8275, -0.6471, -0.3882,  ..., -0.2392, -0.2941, -0.3647],\n",
      "          [-0.4667, -0.6078, -0.3255,  ..., -0.1608, -0.2157, -0.2706],\n",
      "          ...,\n",
      "          [-0.3412, -0.3647, -0.3647,  ...,  0.2941,  0.3020,  0.3804],\n",
      "          [-0.3804, -0.3412, -0.3098,  ...,  0.1373,  0.3412,  0.3961],\n",
      "          [-0.2471, -0.2941, -0.2314,  ..., -0.0667, -0.0275,  0.0588]],\n",
      "\n",
      "         [[-0.5922, -0.5529, -0.3255,  ..., -0.1686, -0.0275, -0.0667],\n",
      "          [-0.7412, -0.5608, -0.2706,  ..., -0.0510, -0.1059, -0.1294],\n",
      "          [-0.3412, -0.4824, -0.1451,  ...,  0.0431, -0.0196, -0.0902],\n",
      "          ...,\n",
      "          [-0.2941, -0.2706, -0.3804,  ..., -0.1216,  0.1451,  0.2549],\n",
      "          [-0.2157, -0.3569, -0.3412,  ..., -0.0824,  0.1608,  0.2863],\n",
      "          [-0.1529, -0.2706, -0.1843,  ...,  0.0745,  0.1451,  0.2000]],\n",
      "\n",
      "         [[-0.6549, -0.6314, -0.4824,  ..., -0.3647, -0.2392, -0.2549],\n",
      "          [-0.8902, -0.6863, -0.3961,  ..., -0.2314, -0.2706, -0.2863],\n",
      "          [-0.5059, -0.6000, -0.3176,  ..., -0.1451, -0.2314, -0.2078],\n",
      "          ...,\n",
      "          [-0.4275, -0.3725, -0.3882,  ..., -0.0196,  0.1843,  0.2784],\n",
      "          [-0.3647, -0.3804, -0.3412,  ..., -0.0275,  0.2000,  0.3255],\n",
      "          [-0.2706, -0.3098, -0.1608,  ..., -0.0902, -0.1137,  0.0510]]],\n",
      "\n",
      "\n",
      "        [[[-0.7255, -0.7255, -0.7176,  ..., -0.7412, -0.7490, -0.7490],\n",
      "          [-0.7255, -0.7255, -0.7176,  ..., -0.7333, -0.7412, -0.7412],\n",
      "          [-0.7333, -0.7333, -0.7255,  ..., -0.7412, -0.7490, -0.7490],\n",
      "          ...,\n",
      "          [-0.6078, -0.6000, -0.6000,  ..., -0.3804, -0.3804, -0.4039],\n",
      "          [-0.6706, -0.6314, -0.6000,  ..., -0.4588, -0.5059, -0.5373],\n",
      "          [-0.5451, -0.4353, -0.3412,  ..., -0.3176, -0.5608, -0.5922]],\n",
      "\n",
      "         [[-0.6941, -0.6941, -0.6863,  ..., -0.5922, -0.6000, -0.6000],\n",
      "          [-0.6706, -0.6627, -0.6627,  ..., -0.5608, -0.5686, -0.5608],\n",
      "          [-0.6392, -0.6392, -0.6392,  ..., -0.5294, -0.5373, -0.5373],\n",
      "          ...,\n",
      "          [-0.5922, -0.6000, -0.6235,  ..., -0.3647, -0.3647, -0.3725],\n",
      "          [-0.6784, -0.6941, -0.6706,  ..., -0.4510, -0.4510, -0.4510],\n",
      "          [-0.6706, -0.6471, -0.5216,  ..., -0.4118, -0.5608, -0.5451]],\n",
      "\n",
      "         [[-0.1373, -0.1451, -0.1373,  ..., -0.0510, -0.0667, -0.0588],\n",
      "          [-0.1059, -0.1137, -0.1059,  ..., -0.0039, -0.0118, -0.0118],\n",
      "          [-0.0824, -0.0902, -0.0824,  ...,  0.0275,  0.0118,  0.0196],\n",
      "          ...,\n",
      "          [-0.4510, -0.4353, -0.4588,  ..., -0.2392, -0.2314, -0.2314],\n",
      "          [-0.5294, -0.5686, -0.5451,  ..., -0.3255, -0.2941, -0.2627],\n",
      "          [-0.5843, -0.6314, -0.4824,  ..., -0.3569, -0.4275, -0.3569]]],\n",
      "\n",
      "\n",
      "        [[[ 0.0353,  0.0588,  0.0980,  ...,  0.2000,  0.1922,  0.1765],\n",
      "          [ 0.0667,  0.0980,  0.1294,  ...,  0.2157,  0.2235,  0.2078],\n",
      "          [ 0.0588,  0.0980,  0.1294,  ...,  0.2078,  0.2157,  0.1922],\n",
      "          ...,\n",
      "          [-0.0980, -0.0745, -0.0588,  ...,  0.1137,  0.0902,  0.0824],\n",
      "          [-0.2784, -0.2471, -0.2471,  ...,  0.0431,  0.0275,  0.0196],\n",
      "          [-0.5451, -0.4902, -0.5137,  ..., -0.1843, -0.2000, -0.2078]],\n",
      "\n",
      "         [[-0.1059, -0.0745, -0.0353,  ...,  0.0902,  0.0824,  0.0588],\n",
      "          [-0.0667, -0.0431, -0.0118,  ...,  0.0902,  0.0980,  0.0902],\n",
      "          [-0.0745, -0.0431, -0.0118,  ...,  0.0745,  0.0824,  0.0745],\n",
      "          ...,\n",
      "          [-0.2314, -0.2000, -0.1843,  ..., -0.0118, -0.0275, -0.0353],\n",
      "          [-0.3882, -0.3490, -0.3569,  ..., -0.0667, -0.0902, -0.0902],\n",
      "          [-0.6549, -0.6000, -0.6314,  ..., -0.2941, -0.2941, -0.3176]],\n",
      "\n",
      "         [[-0.2392, -0.2000, -0.1608,  ..., -0.0510, -0.0353, -0.0431],\n",
      "          [-0.2392, -0.2000, -0.1608,  ..., -0.0510, -0.0196, -0.0196],\n",
      "          [-0.2549, -0.2078, -0.1765,  ..., -0.0824, -0.0510, -0.0510],\n",
      "          ...,\n",
      "          [-0.4118, -0.3725, -0.3569,  ..., -0.1843, -0.1922, -0.1843],\n",
      "          [-0.5451, -0.5137, -0.5216,  ..., -0.2235, -0.2235, -0.2235],\n",
      "          [-0.7725, -0.7255, -0.7569,  ..., -0.4510, -0.4510, -0.4667]]],\n",
      "\n",
      "\n",
      "        ...,\n",
      "\n",
      "\n",
      "        [[[-0.0588, -0.0667, -0.0431,  ..., -0.2784, -0.3412, -0.3490],\n",
      "          [-0.0118, -0.0039,  0.0118,  ..., -0.2471, -0.2863, -0.2784],\n",
      "          [-0.0039,  0.0039,  0.0196,  ..., -0.2392, -0.2706, -0.2627],\n",
      "          ...,\n",
      "          [ 0.3333,  0.3569,  0.3882,  ...,  0.3020,  0.2941,  0.3098],\n",
      "          [ 0.3490,  0.3490,  0.3647,  ...,  0.3647,  0.3569,  0.3490],\n",
      "          [ 0.3020,  0.3490,  0.3412,  ...,  0.3569,  0.3569,  0.3412]],\n",
      "\n",
      "         [[-0.0902, -0.0902, -0.0667,  ..., -0.1608, -0.2078, -0.2078],\n",
      "          [-0.0353, -0.0275, -0.0118,  ..., -0.1294, -0.1451, -0.1373],\n",
      "          [-0.0275, -0.0196, -0.0039,  ..., -0.1137, -0.1294, -0.1216],\n",
      "          ...,\n",
      "          [ 0.2549,  0.2784,  0.3098,  ...,  0.2706,  0.2627,  0.2627],\n",
      "          [ 0.2706,  0.2706,  0.2863,  ...,  0.2941,  0.2784,  0.2706],\n",
      "          [ 0.2235,  0.2706,  0.2627,  ...,  0.2627,  0.2706,  0.2549]],\n",
      "\n",
      "         [[ 0.0824,  0.0824,  0.0980,  ...,  0.0980,  0.0667,  0.0745],\n",
      "          [ 0.1294,  0.1294,  0.1529,  ...,  0.1294,  0.1216,  0.1373],\n",
      "          [ 0.1137,  0.1294,  0.1451,  ...,  0.1294,  0.1216,  0.1373],\n",
      "          ...,\n",
      "          [ 0.2471,  0.2706,  0.3020,  ...,  0.2471,  0.2392,  0.2471],\n",
      "          [ 0.2627,  0.2627,  0.2784,  ...,  0.2863,  0.2706,  0.2627],\n",
      "          [ 0.2157,  0.2627,  0.2549,  ...,  0.2627,  0.2706,  0.2549]]],\n",
      "\n",
      "\n",
      "        [[[-0.5294, -0.4980, -0.5137,  ..., -0.6549, -0.8353, -0.9529],\n",
      "          [-0.4431, -0.4039, -0.4588,  ..., -0.6784, -0.7098, -0.7804],\n",
      "          [-0.3569, -0.3412, -0.4667,  ..., -0.6549, -0.6941, -0.6941],\n",
      "          ...,\n",
      "          [ 0.0745,  0.0588,  0.0902,  ..., -0.0902, -0.0824, -0.0824],\n",
      "          [ 0.0510,  0.0118,  0.0745,  ..., -0.0667, -0.0745, -0.0196],\n",
      "          [ 0.0196, -0.0039,  0.0510,  ..., -0.0588, -0.1059, -0.0667]],\n",
      "\n",
      "         [[-0.6000, -0.5686, -0.5686,  ..., -0.6392, -0.8039, -0.9294],\n",
      "          [-0.5294, -0.4902, -0.5451,  ..., -0.6706, -0.6941, -0.7412],\n",
      "          [-0.4353, -0.4275, -0.5765,  ..., -0.6706, -0.6941, -0.6549],\n",
      "          ...,\n",
      "          [ 0.0824,  0.0667,  0.0902,  ..., -0.0431, -0.0353, -0.0353],\n",
      "          [ 0.0588,  0.0196,  0.0824,  ..., -0.0196, -0.0275,  0.0275],\n",
      "          [ 0.0510,  0.0275,  0.0824,  ..., -0.0118, -0.0667, -0.0275]],\n",
      "\n",
      "         [[-0.6235, -0.5843, -0.5922,  ..., -0.6627, -0.8196, -0.9216],\n",
      "          [-0.5451, -0.5059, -0.5608,  ..., -0.6863, -0.7020, -0.7333],\n",
      "          [-0.4510, -0.4431, -0.5843,  ..., -0.6784, -0.6941, -0.6549],\n",
      "          ...,\n",
      "          [ 0.0275,  0.0039,  0.0353,  ..., -0.1451, -0.1373, -0.1294],\n",
      "          [ 0.0196, -0.0196,  0.0431,  ..., -0.1059, -0.1137, -0.0510],\n",
      "          [ 0.0196, -0.0039,  0.0431,  ..., -0.0824, -0.1294, -0.0824]]],\n",
      "\n",
      "\n",
      "        [[[ 0.1059,  0.1922, -0.1137,  ...,  0.4118,  0.3569,  0.3255],\n",
      "          [ 0.1922,  0.1608, -0.2157,  ...,  0.5059,  0.4980,  0.4588],\n",
      "          [ 0.1922,  0.0980, -0.0902,  ...,  0.4824,  0.5137,  0.4824],\n",
      "          ...,\n",
      "          [-0.9843, -0.9059, -0.6078,  ..., -0.6000, -0.5686, -0.5608],\n",
      "          [-0.9373, -0.8980, -0.7647,  ..., -0.6863, -0.6549, -0.6392],\n",
      "          [-0.8824, -0.8353, -0.7490,  ..., -0.7098, -0.6784, -0.6706]],\n",
      "\n",
      "         [[-0.0118,  0.0902, -0.4824,  ..., -0.5765, -0.6314, -0.6549],\n",
      "          [ 0.0510,  0.0431, -0.5608,  ..., -0.5294, -0.5451, -0.5765],\n",
      "          [ 0.0431, -0.0118, -0.3490,  ..., -0.5686, -0.5529, -0.5843],\n",
      "          ...,\n",
      "          [-0.9922, -0.9137, -0.6000,  ..., -0.9922, -0.9922, -0.9843],\n",
      "          [-1.0000, -0.9608, -0.8196,  ..., -0.9765, -0.9765, -0.9765],\n",
      "          [-0.9922, -0.9373, -0.8431,  ..., -0.9765, -0.9843, -0.9922]],\n",
      "\n",
      "         [[-0.3176, -0.2157, -0.6078,  ..., -0.4980, -0.5608, -0.5686],\n",
      "          [-0.2627, -0.2235, -0.6314,  ..., -0.4275, -0.4510, -0.4745],\n",
      "          [-0.2706, -0.2392, -0.3804,  ..., -0.4510, -0.4431, -0.4667],\n",
      "          ...,\n",
      "          [-0.9922, -0.9294, -0.6392,  ..., -0.9843, -0.9765, -0.9529],\n",
      "          [-0.9843, -0.9922, -0.8980,  ..., -0.9922, -0.9843, -0.9686],\n",
      "          [-0.9686, -0.9843, -0.9294,  ..., -0.9922, -0.9922, -0.9922]]]]), tensor([4, 0, 5, 7, 0, 6, 5, 7, 2, 4, 4, 9, 3, 8, 7, 0, 3, 5, 7, 6, 1, 8, 0, 8,\n",
      "        3, 1, 0, 2, 5, 0, 5, 3])]\n"
     ]
    },
    {
     "ename": "NameError",
     "evalue": "name 'image_tensor' is not defined",
     "output_type": "error",
     "traceback": [
      "\u001b[0;31m---------------------------------------------------------------------------\u001b[0m",
      "\u001b[0;31mNameError\u001b[0m                                 Traceback (most recent call last)",
      "Cell \u001b[0;32mIn[18], line 6\u001b[0m\n\u001b[1;32m      4\u001b[0m         \u001b[38;5;28mprint\u001b[39m(image)\n\u001b[1;32m      5\u001b[0m         count \u001b[38;5;241m+\u001b[39m\u001b[38;5;241m=\u001b[39m \u001b[38;5;241m1\u001b[39m\n\u001b[0;32m----> 6\u001b[0m \u001b[38;5;28mprint\u001b[39m(\u001b[43mimage_tensor\u001b[49m)\n",
      "\u001b[0;31mNameError\u001b[0m: name 'image_tensor' is not defined"
     ]
    }
   ],
   "source": [
    "count = 0\n",
    "for image in train_loader:\n",
    "    if count == 0:\n",
    "        print(image)\n",
    "        count += 1\n",
    "print(image_tensor)"
   ]
  },
  {
   "cell_type": "code",
   "execution_count": null,
   "id": "e0457677-cb2e-465f-af2d-2ef5dbd3e8f7",
   "metadata": {},
   "outputs": [],
   "source": []
  }
 ],
 "metadata": {
  "kernelspec": {
   "display_name": "Python 3",
   "language": "python",
   "name": "python3"
  },
  "language_info": {
   "codemirror_mode": {
    "name": "ipython",
    "version": 3
   },
   "file_extension": ".py",
   "mimetype": "text/x-python",
   "name": "python",
   "nbconvert_exporter": "python",
   "pygments_lexer": "ipython3",
   "version": "3.8.17"
  }
 },
 "nbformat": 4,
 "nbformat_minor": 5
}
